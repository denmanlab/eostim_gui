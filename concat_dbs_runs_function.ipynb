{
 "cells": [
  {
   "cell_type": "code",
   "execution_count": 9,
   "id": "90058431",
   "metadata": {},
   "outputs": [],
   "source": [
    "#general imports\n",
    "import os,sys,glob\n",
    "import numpy as np\n",
    "import pandas as pd\n",
    "import h5py\n",
    "import time\n",
    "from datetime import timedelta\n",
    "from timeit import default_timer as timer\n",
    "from pylab import *\n",
    "from tkinter import *\n",
    "import math\n",
    "import serial\n",
    "import tkinter as tk\n",
    "import pyfirmata\n",
    "import time\n",
    "import threading \n",
    "import pandas as pd\n",
    "from pyfirmata import Arduino \n",
    "from os import system\n",
    "from timeit import default_timer as timer\n",
    "from datetime import timedelta\n",
    "#general imports\n",
    "import os,sys,glob\n",
    "import numpy as np\n",
    "import pandas as pd\n",
    "import h5py"
   ]
  },
  {
   "cell_type": "markdown",
   "id": "9804607a",
   "metadata": {},
   "source": [
    "## concat_runs Function"
   ]
  },
  {
   "cell_type": "code",
   "execution_count": 51,
   "id": "117575ab",
   "metadata": {},
   "outputs": [],
   "source": [
    "def concat_runs(runs_csv_file_path, save_path):\n",
    "    \n",
    "    def sort_dbs_runs(paths):\n",
    "        new_names = []\n",
    "        for path in paths:\n",
    "            session_time_string = os.path.basename(path).split('_')[-1]\n",
    "            if len(session_time_string.split('_')[-1]) < 2:\n",
    "                hour = '0'+ session_time_string.split('_')[-1]\n",
    "            else: hour = session_time_string.split('_')[-1]\n",
    "            if len(session_time_string.split('-')[0]) < 2:\n",
    "                minute = '0'+ session_time_string.split('-')[0]\n",
    "            else: minute = session_time_string.split('-')[0]\n",
    "            if len(session_time_string.split('-')[1]) < 2:\n",
    "                second = '0'+ session_time_string.split('-')[1]\n",
    "            else: second = session_time_string.split('-')[1]\n",
    "    #         os.path.basename(path).split('-')[0]+'-'+\n",
    "            new_names.extend([hour+'_'+minute+'_'+second])\n",
    "        return np.array(paths)[np.argsort(new_names).astype(int)]\n",
    "        return new_names\n",
    "    \n",
    "    sorted_dbs_runs = sort_dbs_runs(glob.glob(runs_csv_file_path))\n",
    "    \n",
    "    concat_df = pd.concat([pd.read_csv(runs) for runs in sorted_dbs_runs])\n",
    "    timestamp_string = datetime.datetime.now().strftime('%Y-%m-%d_%H-%M-%S')\n",
    "\n",
    "    concat_df.to_csv(save_path + timestamp_string + '.csv')\n",
    "    \n",
    "    return concat_df.to_csv(save_path + timestamp_string + '.csv')"
   ]
  },
  {
   "cell_type": "markdown",
   "id": "99719eca",
   "metadata": {},
   "source": [
    "\n",
    "## Insert Paths"
   ]
  },
  {
   "cell_type": "code",
   "execution_count": null,
   "id": "890e406a",
   "metadata": {},
   "outputs": [],
   "source": [
    "runs_csv_file_path = '/Users/granthughes/Desktop/eo_stim/data_frames/gui_runs_csv/jhl2_test/*'\n",
    "save_path = '/Users/granthughes/Desktop/eo_stim/data_frames/gui_data_frame/jlh2_test/'"
   ]
  },
  {
   "cell_type": "markdown",
   "id": "dd40c14f",
   "metadata": {},
   "source": [
    "## Run Function "
   ]
  },
  {
   "cell_type": "code",
   "execution_count": 53,
   "id": "5017d323",
   "metadata": {},
   "outputs": [],
   "source": [
    "\n",
    "concat_runs(runs_csv_file_path, save_path)\n"
   ]
  }
 ],
 "metadata": {
  "kernelspec": {
   "display_name": "Python 3",
   "language": "python",
   "name": "python3"
  },
  "language_info": {
   "codemirror_mode": {
    "name": "ipython",
    "version": 3
   },
   "file_extension": ".py",
   "mimetype": "text/x-python",
   "name": "python",
   "nbconvert_exporter": "python",
   "pygments_lexer": "ipython3",
   "version": "3.8.8"
  }
 },
 "nbformat": 4,
 "nbformat_minor": 5
}
